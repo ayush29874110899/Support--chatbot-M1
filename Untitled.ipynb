{
 "cells": [
  {
   "cell_type": "code",
   "execution_count": 2,
   "id": "be211bec-2e20-4679-aefe-67bfad2ff1d3",
   "metadata": {
    "tags": []
   },
   "outputs": [
    {
     "name": "stderr",
     "output_type": "stream",
     "text": [
      "/home/ayush/anaconda3/envs/myenv/lib/python3.9/site-packages/torch/cuda/__init__.py:107: UserWarning: CUDA initialization: CUDA unknown error - this may be due to an incorrectly set up environment, e.g. changing env variable CUDA_VISIBLE_DEVICES after program start. Setting the available devices to be zero. (Triggered internally at ../c10/cuda/CUDAFunctions.cpp:109.)\n",
      "  return torch._C._cuda_getDeviceCount() > 0\n"
     ]
    },
    {
     "data": {
      "text/plain": [
       "False"
      ]
     },
     "execution_count": 2,
     "metadata": {},
     "output_type": "execute_result"
    }
   ],
   "source": [
    "import torch\n",
    "torch.cuda.is_available()"
   ]
  },
  {
   "cell_type": "code",
   "execution_count": 1,
   "id": "ec17e99b-50a5-4927-bf31-fb4ebf5862f5",
   "metadata": {
    "tags": []
   },
   "outputs": [
    {
     "name": "stderr",
     "output_type": "stream",
     "text": [
      "/home/ayush/anaconda3/envs/myenv/lib/python3.9/site-packages/torch/cuda/__init__.py:107: UserWarning: CUDA initialization: CUDA unknown error - this may be due to an incorrectly set up environment, e.g. changing env variable CUDA_VISIBLE_DEVICES after program start. Setting the available devices to be zero. (Triggered internally at ../c10/cuda/CUDAFunctions.cpp:109.)\n",
      "  return torch._C._cuda_getDeviceCount() > 0\n",
      "/home/ayush/anaconda3/envs/myenv/lib/python3.9/site-packages/bitsandbytes/cextension.py:34: UserWarning: The installed version of bitsandbytes was compiled without GPU support. 8-bit optimizers, 8-bit multiplication, and GPU quantization are unavailable.\n",
      "  warn(\"The installed version of bitsandbytes was compiled without GPU support. \"\n"
     ]
    },
    {
     "name": "stdout",
     "output_type": "stream",
     "text": [
      "/home/ayush/anaconda3/envs/myenv/lib/python3.9/site-packages/bitsandbytes/libbitsandbytes_cpu.so: undefined symbol: cadam32bit_grad_fp32\n"
     ]
    },
    {
     "name": "stderr",
     "output_type": "stream",
     "text": [
      "/tmp/ipykernel_34499/771046251.py:54: GradioDeprecationWarning: Usage of gradio.outputs is deprecated, and will not be supported in the future, please import your components from gradio.components\n",
      "  out_text = gr.outputs.Textbox()\n"
     ]
    },
    {
     "name": "stdout",
     "output_type": "stream",
     "text": [
      "Running on local URL:  http://127.0.0.1:7861\n",
      "Running on public URL: https://afcbcb227c1e2189f9.gradio.live\n",
      "\n",
      "This share link expires in 72 hours. For free permanent hosting and GPU upgrades, run `gradio deploy` from Terminal to deploy to Spaces (https://huggingface.co/spaces)\n"
     ]
    },
    {
     "data": {
      "text/html": [
       "<div><iframe src=\"https://afcbcb227c1e2189f9.gradio.live\" width=\"100%\" height=\"500\" allow=\"autoplay; camera; microphone; clipboard-read; clipboard-write;\" frameborder=\"0\" allowfullscreen></iframe></div>"
      ],
      "text/plain": [
       "<IPython.core.display.HTML object>"
      ]
     },
     "metadata": {},
     "output_type": "display_data"
    },
    {
     "data": {
      "text/plain": []
     },
     "execution_count": 1,
     "metadata": {},
     "output_type": "execute_result"
    },
    {
     "name": "stdout",
     "output_type": "stream",
     "text": [
      "Generating...\n"
     ]
    },
    {
     "name": "stderr",
     "output_type": "stream",
     "text": [
      "Traceback (most recent call last):\n",
      "  File \"/home/ayush/anaconda3/envs/myenv/lib/python3.9/site-packages/gradio/routes.py\", line 439, in run_predict\n",
      "    output = await app.get_blocks().process_api(\n",
      "  File \"/home/ayush/anaconda3/envs/myenv/lib/python3.9/site-packages/gradio/blocks.py\", line 1384, in process_api\n",
      "    result = await self.call_function(\n",
      "  File \"/home/ayush/anaconda3/envs/myenv/lib/python3.9/site-packages/gradio/blocks.py\", line 1089, in call_function\n",
      "    prediction = await anyio.to_thread.run_sync(\n",
      "  File \"/home/ayush/anaconda3/envs/myenv/lib/python3.9/site-packages/anyio/to_thread.py\", line 28, in run_sync\n",
      "    return await get_asynclib().run_sync_in_worker_thread(func, *args, cancellable=cancellable,\n",
      "  File \"/home/ayush/anaconda3/envs/myenv/lib/python3.9/site-packages/anyio/_backends/_asyncio.py\", line 818, in run_sync_in_worker_thread\n",
      "    return await future\n",
      "  File \"/home/ayush/anaconda3/envs/myenv/lib/python3.9/site-packages/anyio/_backends/_asyncio.py\", line 754, in run\n",
      "    result = context.run(func, *args)\n",
      "  File \"/home/ayush/anaconda3/envs/myenv/lib/python3.9/site-packages/gradio/utils.py\", line 700, in wrapper\n",
      "    response = f(*args, **kwargs)\n",
      "  File \"/tmp/ipykernel_34499/771046251.py\", line 42, in chat_bot\n",
      "    generation_output = model.generate(\n",
      "  File \"/home/ayush/anaconda3/envs/myenv/lib/python3.9/site-packages/peft/peft_model.py\", line 977, in generate\n",
      "    outputs = self.base_model.generate(**kwargs)\n",
      "  File \"/home/ayush/anaconda3/envs/myenv/lib/python3.9/site-packages/torch/utils/_contextlib.py\", line 115, in decorate_context\n",
      "    return func(*args, **kwargs)\n",
      "  File \"/home/ayush/anaconda3/envs/myenv/lib/python3.9/site-packages/transformers/generation/utils.py\", line 1522, in generate\n",
      "    return self.greedy_search(\n",
      "  File \"/home/ayush/anaconda3/envs/myenv/lib/python3.9/site-packages/transformers/generation/utils.py\", line 2339, in greedy_search\n",
      "    outputs = self(\n",
      "  File \"/home/ayush/anaconda3/envs/myenv/lib/python3.9/site-packages/torch/nn/modules/module.py\", line 1501, in _call_impl\n",
      "    return forward_call(*args, **kwargs)\n",
      "  File \"/home/ayush/anaconda3/envs/myenv/lib/python3.9/site-packages/accelerate/hooks.py\", line 165, in new_forward\n",
      "    output = old_forward(*args, **kwargs)\n",
      "  File \"/home/ayush/anaconda3/envs/myenv/lib/python3.9/site-packages/transformers/models/llama/modeling_llama.py\", line 688, in forward\n",
      "    outputs = self.model(\n",
      "  File \"/home/ayush/anaconda3/envs/myenv/lib/python3.9/site-packages/torch/nn/modules/module.py\", line 1501, in _call_impl\n",
      "    return forward_call(*args, **kwargs)\n",
      "  File \"/home/ayush/anaconda3/envs/myenv/lib/python3.9/site-packages/accelerate/hooks.py\", line 165, in new_forward\n",
      "    output = old_forward(*args, **kwargs)\n",
      "  File \"/home/ayush/anaconda3/envs/myenv/lib/python3.9/site-packages/transformers/models/llama/modeling_llama.py\", line 578, in forward\n",
      "    layer_outputs = decoder_layer(\n",
      "  File \"/home/ayush/anaconda3/envs/myenv/lib/python3.9/site-packages/torch/nn/modules/module.py\", line 1501, in _call_impl\n",
      "    return forward_call(*args, **kwargs)\n",
      "  File \"/home/ayush/anaconda3/envs/myenv/lib/python3.9/site-packages/accelerate/hooks.py\", line 165, in new_forward\n",
      "    output = old_forward(*args, **kwargs)\n",
      "  File \"/home/ayush/anaconda3/envs/myenv/lib/python3.9/site-packages/transformers/models/llama/modeling_llama.py\", line 292, in forward\n",
      "    hidden_states, self_attn_weights, present_key_value = self.self_attn(\n",
      "  File \"/home/ayush/anaconda3/envs/myenv/lib/python3.9/site-packages/torch/nn/modules/module.py\", line 1501, in _call_impl\n",
      "    return forward_call(*args, **kwargs)\n",
      "  File \"/home/ayush/anaconda3/envs/myenv/lib/python3.9/site-packages/accelerate/hooks.py\", line 165, in new_forward\n",
      "    output = old_forward(*args, **kwargs)\n",
      "  File \"/home/ayush/anaconda3/envs/myenv/lib/python3.9/site-packages/transformers/models/llama/modeling_llama.py\", line 194, in forward\n",
      "    query_states = self.q_proj(hidden_states).view(bsz, q_len, self.num_heads, self.head_dim).transpose(1, 2)\n",
      "  File \"/home/ayush/anaconda3/envs/myenv/lib/python3.9/site-packages/torch/nn/modules/module.py\", line 1501, in _call_impl\n",
      "    return forward_call(*args, **kwargs)\n",
      "  File \"/home/ayush/anaconda3/envs/myenv/lib/python3.9/site-packages/peft/tuners/lora.py\", line 1064, in forward\n",
      "    result = super().forward(x)\n",
      "  File \"/home/ayush/anaconda3/envs/myenv/lib/python3.9/site-packages/bitsandbytes/nn/modules.py\", line 441, in forward\n",
      "    out = bnb.matmul(x, self.weight, bias=self.bias, state=self.state)\n",
      "  File \"/home/ayush/anaconda3/envs/myenv/lib/python3.9/site-packages/bitsandbytes/autograd/_functions.py\", line 563, in matmul\n",
      "    return MatMul8bitLt.apply(A, B, out, bias, state)\n",
      "  File \"/home/ayush/anaconda3/envs/myenv/lib/python3.9/site-packages/torch/autograd/function.py\", line 506, in apply\n",
      "    return super().apply(*args, **kwargs)  # type: ignore[misc]\n",
      "  File \"/home/ayush/anaconda3/envs/myenv/lib/python3.9/site-packages/bitsandbytes/autograd/_functions.py\", line 297, in forward\n",
      "    using_igemmlt = supports_igemmlt(A.device) and not state.force_no_igemmlt\n",
      "  File \"/home/ayush/anaconda3/envs/myenv/lib/python3.9/site-packages/bitsandbytes/autograd/_functions.py\", line 227, in supports_igemmlt\n",
      "    if torch.cuda.get_device_capability(device=device) < (7, 5):\n",
      "  File \"/home/ayush/anaconda3/envs/myenv/lib/python3.9/site-packages/torch/cuda/__init__.py\", line 381, in get_device_capability\n",
      "    prop = get_device_properties(device)\n",
      "  File \"/home/ayush/anaconda3/envs/myenv/lib/python3.9/site-packages/torch/cuda/__init__.py\", line 395, in get_device_properties\n",
      "    _lazy_init()  # will define _get_device_properties\n",
      "  File \"/home/ayush/anaconda3/envs/myenv/lib/python3.9/site-packages/torch/cuda/__init__.py\", line 247, in _lazy_init\n",
      "    torch._C._cuda_init()\n",
      "RuntimeError: CUDA unknown error - this may be due to an incorrectly set up environment, e.g. changing env variable CUDA_VISIBLE_DEVICES after program start. Setting the available devices to be zero.\n"
     ]
    }
   ],
   "source": [
    "from transformers import LlamaTokenizer, LlamaForCausalLM, GenerationConfig\n",
    "from peft import PeftModel\n",
    "import gradio as gr\n",
    "import torch\n",
    "\n",
    "# Global Constants\n",
    "PROMPT = \"\"\"Below is the instruction.As a Mental Health Support Chatbot, your primary goal is to provide guidance and support to individuals seeking mental health advice. Your responses should be empathetic, non-judgmental, and focused on promoting emotional well-being.\n",
    "### Instruction:\n",
    "   {}\n",
    "### Response:\"\"\"\n",
    "\n",
    "\n",
    "# Set the device to CPU explicitly\n",
    "torch.device(\"cpu\")\n",
    "\n",
    "# Load Tokenizer and Model\n",
    "tokenizer = LlamaTokenizer.from_pretrained(\"openlm-research/open_llama_3b\")\n",
    "model = LlamaForCausalLM.from_pretrained(\n",
    "    \"openlm-research/open_llama_3b\",\n",
    "    load_in_8bit=True,\n",
    "    device_map=\"cpu\", #Change to CPU or auto based on the system specification\n",
    ")\n",
    "model = PeftModel.from_pretrained(model, \"PrinceAyush/Support-chatbot-llama7b\")\n",
    "\n",
    "# Function to generate chatbot response\n",
    "def chat_bot(txt):\n",
    "    prompt_text = PROMPT.format(str(txt))\n",
    "    inputs = tokenizer(prompt_text, return_tensors=\"pt\")\n",
    "    \n",
    "    # Check for GPU support\n",
    "    if torch.cuda.is_available():\n",
    "        input_ids = inputs[\"input_ids\"].cuda()\n",
    "    else:\n",
    "        input_ids = inputs[\"input_ids\"].cpu()\n",
    "\n",
    "    generation_config = GenerationConfig(\n",
    "        temperature=0.6,\n",
    "        top_p=0.95,\n",
    "        repetition_penalty=1.15,\n",
    "    )\n",
    "    print(\"Generating...\")\n",
    "    generation_output = model.generate(\n",
    "        input_ids=input_ids,\n",
    "        generation_config=generation_config,\n",
    "        return_dict_in_generate=True,\n",
    "        output_scores=True,\n",
    "        max_new_tokens=128,\n",
    "    )\n",
    "    for s in generation_output.sequences:\n",
    "        bot_response = tokenizer.decode(s)\n",
    "    return bot_response\n",
    "\n",
    "# Gradio Interface\n",
    "out_text = gr.outputs.Textbox()\n",
    "gr.Interface(chat_bot, 'textbox', out_text, title='Demo of finetuned LLaMA 7B Model').launch(share=True)\n"
   ]
  },
  {
   "cell_type": "code",
   "execution_count": null,
   "id": "924514b8-cc8c-4fbc-84ce-3d1965b87dce",
   "metadata": {},
   "outputs": [],
   "source": []
  }
 ],
 "metadata": {
  "kernelspec": {
   "display_name": "Python 3 (ipykernel)",
   "language": "python",
   "name": "python3"
  },
  "language_info": {
   "codemirror_mode": {
    "name": "ipython",
    "version": 3
   },
   "file_extension": ".py",
   "mimetype": "text/x-python",
   "name": "python",
   "nbconvert_exporter": "python",
   "pygments_lexer": "ipython3",
   "version": "3.9.17"
  }
 },
 "nbformat": 4,
 "nbformat_minor": 5
}

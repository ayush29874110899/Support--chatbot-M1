{
 "cells": [
  {
   "cell_type": "code",
   "execution_count": 5,
   "id": "c7a1c51e-b5c8-4a4a-87c4-0d707d24be16",
   "metadata": {
    "tags": []
   },
   "outputs": [
    {
     "data": {
      "application/vnd.jupyter.widget-view+json": {
       "model_id": "a4f7a8c07a354840b753f571af9900c1",
       "version_major": 2,
       "version_minor": 0
      },
      "text/plain": [
       "Downloading (…)/adapter_config.json:   0%|          | 0.00/451 [00:00<?, ?B/s]"
      ]
     },
     "metadata": {},
     "output_type": "display_data"
    },
    {
     "data": {
      "application/vnd.jupyter.widget-view+json": {
       "model_id": "1d3b9930fccf4959ba758636594acf09",
       "version_major": 2,
       "version_minor": 0
      },
      "text/plain": [
       "Downloading adapter_model.bin:   0%|          | 0.00/5.36M [00:00<?, ?B/s]"
      ]
     },
     "metadata": {},
     "output_type": "display_data"
    },
    {
     "name": "stderr",
     "output_type": "stream",
     "text": [
      "/tmp/ipykernel_32379/909047366.py:50: GradioDeprecationWarning: Usage of gradio.outputs is deprecated, and will not be supported in the future, please import your components from gradio.components\n",
      "  out_text = gr.outputs.Textbox()\n"
     ]
    },
    {
     "name": "stdout",
     "output_type": "stream",
     "text": [
      "Running on local URL:  http://127.0.0.1:7860\n",
      "Running on public URL: https://dc839515394ef0d33b.gradio.live\n",
      "\n",
      "This share link expires in 72 hours. For free permanent hosting and GPU upgrades, run `gradio deploy` from Terminal to deploy to Spaces (https://huggingface.co/spaces)\n"
     ]
    },
    {
     "data": {
      "text/html": [
       "<div><iframe src=\"https://dc839515394ef0d33b.gradio.live\" width=\"100%\" height=\"500\" allow=\"autoplay; camera; microphone; clipboard-read; clipboard-write;\" frameborder=\"0\" allowfullscreen></iframe></div>"
      ],
      "text/plain": [
       "<IPython.core.display.HTML object>"
      ]
     },
     "metadata": {},
     "output_type": "display_data"
    },
    {
     "data": {
      "text/plain": []
     },
     "execution_count": 5,
     "metadata": {},
     "output_type": "execute_result"
    }
   ],
   "source": [
    "from transformers import LlamaTokenizer, LlamaForCausalLM, GenerationConfig\n",
    "from peft import PeftModel\n",
    "import gradio as gr\n",
    "import torch\n",
    "\n",
    "# Global Constants\n",
    "PROMPT = \"\"\"Below is the instruction.As a Mental Health Support Chatbot, your primary goal is to provide guidance and support to individuals seeking mental health advice. Your responses should be empathetic, non-judgmental, and focused on promoting emotional well-being.\n",
    "### Instruction:\n",
    "   {}\n",
    "### Response:\"\"\"\n",
    "\n",
    "# Load Tokenizer and Model\n",
    "tokenizer = LlamaTokenizer.from_pretrained(\"openlm-research/open_llama_3b\")\n",
    "model = LlamaForCausalLM.from_pretrained(\n",
    "    \"openlm-research/open_llama_3b\",\n",
    "    load_in_8bit=True,\n",
    "    device_map=\"cpu\",\n",
    ")\n",
    "model = PeftModel.from_pretrained(model, \"PrinceAyush/Support-chatbot-llama7b\")\n",
    "\n",
    "# Function to generate chatbot response\n",
    "def chat_bot(txt):\n",
    "    prompt_text = PROMPT.format(str(txt))\n",
    "    inputs = tokenizer(prompt_text, return_tensors=\"pt\")\n",
    "    \n",
    "    # Check for GPU support\n",
    "    if torch.cuda.is_available():\n",
    "        input_ids = inputs[\"input_ids\"].cuda()\n",
    "    else:\n",
    "        input_ids = inputs[\"input_ids\"]\n",
    "\n",
    "    generation_config = GenerationConfig(\n",
    "        temperature=0.6,\n",
    "        top_p=0.95,\n",
    "        repetition_penalty=1.15,\n",
    "    )\n",
    "    print(\"Generating...\")\n",
    "    generation_output = model.generate(\n",
    "        input_ids=input_ids,\n",
    "        generation_config=generation_config,\n",
    "        return_dict_in_generate=True,\n",
    "        output_scores=True,\n",
    "        max_new_tokens=128,\n",
    "    )\n",
    "    for s in generation_output.sequences:\n",
    "        bot_response = tokenizer.decode(s)\n",
    "    return bot_response\n",
    "\n",
    "# Gradio Interface\n",
    "out_text = gr.outputs.Textbox()\n",
    "gr.Interface(chat_bot, 'textbox', out_text, title='Demo of finetuned LLaMA 7B Model').launch(share=True)\n"
   ]
  },
  {
   "cell_type": "code",
   "execution_count": null,
   "id": "1e04fecf-3a9a-49a0-9154-8d8f7648f30a",
   "metadata": {},
   "outputs": [],
   "source": []
  }
 ],
 "metadata": {
  "kernelspec": {
   "display_name": "Python 3 (ipykernel)",
   "language": "python",
   "name": "python3"
  },
  "language_info": {
   "codemirror_mode": {
    "name": "ipython",
    "version": 3
   },
   "file_extension": ".py",
   "mimetype": "text/x-python",
   "name": "python",
   "nbconvert_exporter": "python",
   "pygments_lexer": "ipython3",
   "version": "3.9.17"
  }
 },
 "nbformat": 4,
 "nbformat_minor": 5
}
